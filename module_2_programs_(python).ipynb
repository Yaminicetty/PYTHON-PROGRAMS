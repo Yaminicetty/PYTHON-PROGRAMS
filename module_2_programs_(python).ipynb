{
  "nbformat": 4,
  "nbformat_minor": 0,
  "metadata": {
    "colab": {
      "name": "module 2 programs (python).ipynb",
      "provenance": [],
      "collapsed_sections": [],
      "authorship_tag": "ABX9TyO7QdxJA+t2fGHwnlByeGo1",
      "include_colab_link": true
    },
    "kernelspec": {
      "name": "python3",
      "display_name": "Python 3"
    },
    "language_info": {
      "name": "python"
    }
  },
  "cells": [
    {
      "cell_type": "markdown",
      "metadata": {
        "id": "view-in-github",
        "colab_type": "text"
      },
      "source": [
        "<a href=\"https://colab.research.google.com/github/Yaminicetty/PYTHON-PROGRAMS/blob/main/module_2_programs_(python).ipynb\" target=\"_parent\"><img src=\"https://colab.research.google.com/assets/colab-badge.svg\" alt=\"Open In Colab\"/></a>"
      ]
    },
    {
      "cell_type": "code",
      "execution_count": null,
      "metadata": {
        "colab": {
          "base_uri": "https://localhost:8080/"
        },
        "id": "L1BD1VGjORJq",
        "outputId": "b876a7b2-23a2-49e5-f7c8-11155fd74ed3"
      },
      "outputs": [
        {
          "output_type": "stream",
          "name": "stdout",
          "text": [
            "Enter lengths of the triangle sides: \n",
            "x: 60\n",
            "y: 60\n",
            "z: 60\n",
            "Equilateral triangle\n"
          ]
        }
      ],
      "source": [
        "#CHECK WHETHER THE TRIANGLE IS EQUILATERAL,ISSOSCELES AND  SCALENE \n",
        "print(\"Enter lengths of the triangle : \")\n",
        "x = int(input(\"x: \"))\n",
        "y = int(input(\"y: \"))\n",
        "z = int(input(\"z: \"))\n",
        "\n",
        "if x == y == z:\n",
        "\tprint(\"Equilateral triangle\")\n",
        "elif x==y or y==z or x==z:\n",
        "\tprint(\"isosceles triangle\")\n",
        "else:\n",
        " print(\"Scalene triangle\")\n"
      ]
    },
    {
      "cell_type": "code",
      "source": [
        "#CHECK WHETHER THE ENTERED YEAR IS LEAP YEAR OR NOT\n",
        "a=int(input(\"Enter the year : \"))\n",
        "\n",
        "if (a%4==0 and a%100!=0 or a%400==0):\n",
        "    print(\"The year is a leap year\")\n",
        "else:\n",
        "    print(\"The year isn't a leap year\")\n"
      ],
      "metadata": {
        "colab": {
          "base_uri": "https://localhost:8080/"
        },
        "id": "Kz7sfGc6PLs1",
        "outputId": "48c6ecc9-4a05-4e01-904b-86f7f028432d"
      },
      "execution_count": null,
      "outputs": [
        {
          "output_type": "stream",
          "name": "stdout",
          "text": [
            "Enter the year : 2003\n",
            "The year isn't a leap year\n"
          ]
        }
      ]
    },
    {
      "cell_type": "code",
      "source": [
        "#PYTHON PROGRAM TO CHECK NUMBER IS DIVISIBLE BY 5 AND 11\n",
        "\n",
        "number = int(input(\" Please Enter any Positive Integer : \"))\n",
        "\n",
        "if((number % 5 == 0) and (number % 11 == 0)):\n",
        "   print(\"Given Number 0 is Divisible by 5 and 11\")\n",
        "else:\n",
        "   print(\"Given Number 0 is Not Divisible by 5 and 11\"\n",
        "   )\n"
      ],
      "metadata": {
        "id": "6qlmrdh0R8CE",
        "colab": {
          "base_uri": "https://localhost:8080/"
        },
        "outputId": "83a9bcc3-a55a-4513-fb2c-1557f32f79e0"
      },
      "execution_count": 5,
      "outputs": [
        {
          "output_type": "stream",
          "name": "stdout",
          "text": [
            " Please Enter any Positive Integer : 50\n",
            "Given Number 0 is Not Divisible by 5 and 11\n"
          ]
        }
      ]
    },
    {
      "cell_type": "code",
      "source": [
        "#CHECK WHETHER THE NUMBER IS PALINDROME OR NOT\n",
        "n=int(input(\"Enter number:\"))\n",
        "temp=n\n",
        "rev=0\n",
        "while(n>0):\n",
        "    dig=n%10\n",
        "    rev=rev*10+dig\n",
        "    n=n//10\n",
        "if(temp==rev):\n",
        "    print(\"The number is a palindrome!\")\n",
        "else:\n",
        "    print(\"The number isn't a palindrome!\")"
      ],
      "metadata": {
        "colab": {
          "base_uri": "https://localhost:8080/"
        },
        "id": "F73FhM6M8QCA",
        "outputId": "0fd1a752-1391-4f5f-83c1-4a84b3c70df1"
      },
      "execution_count": 9,
      "outputs": [
        {
          "output_type": "stream",
          "name": "stdout",
          "text": [
            "Enter number:55\n",
            "The number is a palindrome!\n"
          ]
        }
      ]
    },
    {
      "cell_type": "code",
      "source": [
        "#CHECK WHETHER THE NUMBER IS PERFECT OR NOT\n",
        "n = int(input(\"Enter any number: \"))\n",
        "sum1 = 0\n",
        "for i in range(1, n):\n",
        "    if(n % i == 0):\n",
        "        sum1 = sum1 + i\n",
        "if (sum1 == n):\n",
        "    print(\"The number is a Perfect number!\")\n",
        "else:\n",
        "    print(\"The number is not a Perfect number!\")"
      ],
      "metadata": {
        "colab": {
          "base_uri": "https://localhost:8080/"
        },
        "id": "YgWOzzyV8-tt",
        "outputId": "2cb6874e-7547-4cc0-ecf5-d5d30b6ae401"
      },
      "execution_count": 10,
      "outputs": [
        {
          "output_type": "stream",
          "name": "stdout",
          "text": [
            "Enter any number: 28\n",
            "The number is a Perfect number!\n"
          ]
        }
      ]
    },
    {
      "cell_type": "code",
      "source": [
        ""
      ],
      "metadata": {
        "id": "ljgu8WrX9NgH"
      },
      "execution_count": null,
      "outputs": []
    }
  ]
}