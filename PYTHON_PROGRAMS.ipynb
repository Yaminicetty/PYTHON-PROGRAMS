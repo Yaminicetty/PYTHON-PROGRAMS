{
  "cells": [
    {
      "cell_type": "markdown",
      "metadata": {
        "id": "view-in-github",
        "colab_type": "text"
      },
      "source": [
        "<a href=\"https://colab.research.google.com/github/Yaminicetty/PYTHON-PROGRAMS/blob/main/PYTHON_PROGRAMS.ipynb\" target=\"_parent\"><img src=\"https://colab.research.google.com/assets/colab-badge.svg\" alt=\"Open In Colab\"/></a>"
      ]
    },
    {
      "cell_type": "markdown",
      "id": "fbc1ca5d",
      "metadata": {
        "id": "fbc1ca5d"
      },
      "source": [
        "# Average of three numbers"
      ]
    },
    {
      "cell_type": "code",
      "execution_count": null,
      "id": "ae087323",
      "metadata": {
        "id": "ae087323",
        "outputId": "dacf26e6-2e65-4074-ecfc-ed0731acc95a"
      },
      "outputs": [
        {
          "name": "stdout",
          "output_type": "stream",
          "text": [
            "20.0\n",
            "<class 'int'>\n",
            "<class 'int'>\n",
            "<class 'int'>\n",
            "<class 'float'>\n"
          ]
        }
      ],
      "source": [
        "a=10\n",
        "b=20\n",
        "c=30\n",
        "d=(a+b+c)/3\n",
        "print(d)\n",
        "print(type(a))\n",
        "print(type(b))\n",
        "print(type(c))\n",
        "print(type(d))"
      ]
    },
    {
      "cell_type": "markdown",
      "id": "a16c51f6",
      "metadata": {
        "id": "a16c51f6"
      },
      "source": [
        "# Multiplication of three numbers( STATIC)"
      ]
    },
    {
      "cell_type": "code",
      "execution_count": null,
      "id": "62f669fa",
      "metadata": {
        "id": "62f669fa",
        "outputId": "ad4fc359-3499-498e-c75d-e38d83cf2363"
      },
      "outputs": [
        {
          "name": "stdout",
          "output_type": "stream",
          "text": [
            "50\n",
            "<class 'int'>\n",
            "<class 'int'>\n",
            "<class 'int'>\n",
            "<class 'float'>\n"
          ]
        }
      ],
      "source": [
        "a=5\n",
        "b=10\n",
        "c=a*b\n",
        "print(c)\n",
        "print(type(a))\n",
        "print(type(b))\n",
        "print(type(c))\n",
        "print(type(d))\n",
        "\n"
      ]
    },
    {
      "cell_type": "markdown",
      "id": "161da643",
      "metadata": {
        "id": "161da643"
      },
      "source": [
        "# Addition  of three numbers (Dynamic)"
      ]
    },
    {
      "cell_type": "code",
      "execution_count": null,
      "id": "86762b0d",
      "metadata": {
        "id": "86762b0d",
        "outputId": "8a88d7af-e0e1-491e-b70b-d3fa4b393e85"
      },
      "outputs": [
        {
          "name": "stdout",
          "output_type": "stream",
          "text": [
            "enther the variable5\n",
            "enter the variable6\n",
            "11\n",
            "<class 'int'>\n"
          ]
        }
      ],
      "source": [
        "a=int(input(\"enther the variable\")) \n",
        "b=int(input(\"enter the variable\"))\n",
        "c=a+b\n",
        "print(c)\n",
        "print(type(b))"
      ]
    },
    {
      "cell_type": "markdown",
      "id": "d8b00570",
      "metadata": {
        "id": "d8b00570"
      },
      "source": [
        "# Multiplication of three numbers (dynamic)"
      ]
    },
    {
      "cell_type": "code",
      "execution_count": null,
      "id": "e29ad1db",
      "metadata": {
        "id": "e29ad1db",
        "outputId": "14e04e45-628c-4fdd-de08-0e17781f57c0"
      },
      "outputs": [
        {
          "name": "stdout",
          "output_type": "stream",
          "text": [
            "enter the varible9\n",
            "enter the variable9\n",
            "enter the variable9\n",
            "729\n",
            "<class 'int'>\n"
          ]
        }
      ],
      "source": [
        "a=int(input(\"enter the varible\"))\n",
        "b=int(input(\"enter the variable\"))\n",
        "c=int(input(\"enter the variable\"))\n",
        "d=a*b*c\n",
        "print(d)\n",
        "print(type(d))\n"
      ]
    },
    {
      "cell_type": "markdown",
      "id": "7eb9fd83",
      "metadata": {
        "id": "7eb9fd83"
      },
      "source": [
        "# Type Conversions\n"
      ]
    },
    {
      "cell_type": "markdown",
      "id": "334b04fa",
      "metadata": {
        "id": "334b04fa"
      },
      "source": [
        "Convert int to float"
      ]
    },
    {
      "cell_type": "code",
      "execution_count": null,
      "id": "6afd0670",
      "metadata": {
        "id": "6afd0670",
        "outputId": "b4910e4d-cb7c-4b02-c909-2203927afa6d"
      },
      "outputs": [
        {
          "name": "stdout",
          "output_type": "stream",
          "text": [
            "<class 'int'>\n",
            "10.0\n",
            "<class 'float'>\n"
          ]
        }
      ],
      "source": [
        "a=10\n",
        "print(type(a))\n",
        "b=float(a)\n",
        "print(b)\n",
        "print(type(b))"
      ]
    },
    {
      "cell_type": "markdown",
      "id": "2f7d97ee",
      "metadata": {
        "id": "2f7d97ee"
      },
      "source": [
        "Convert float to int"
      ]
    },
    {
      "cell_type": "code",
      "execution_count": null,
      "id": "d4758390",
      "metadata": {
        "id": "d4758390",
        "outputId": "4d80c269-51e6-44dc-876a-f9b34a667995"
      },
      "outputs": [
        {
          "name": "stdout",
          "output_type": "stream",
          "text": [
            "<class 'float'>\n",
            "100\n",
            "<class 'int'>\n"
          ]
        }
      ],
      "source": [
        "a=100.23\n",
        "print(type(a))\n",
        "b=int(a)\n",
        "print(b)\n",
        "print(type(b))"
      ]
    },
    {
      "cell_type": "markdown",
      "id": "381bf39c",
      "metadata": {
        "id": "381bf39c"
      },
      "source": [
        "Convert int to string\n"
      ]
    },
    {
      "cell_type": "code",
      "execution_count": null,
      "id": "d1da72af",
      "metadata": {
        "id": "d1da72af",
        "outputId": "22460615-2e26-49a0-f56f-6323dc2c311b"
      },
      "outputs": [
        {
          "name": "stdout",
          "output_type": "stream",
          "text": [
            "45\n",
            "<class 'int'>\n",
            "45\n",
            "<class 'str'>\n"
          ]
        }
      ],
      "source": [
        "a=45\n",
        "print(a)\n",
        "print(type(a))\n",
        "b=str(a)\n",
        "print(b)\n",
        "print(type(b))"
      ]
    },
    {
      "cell_type": "markdown",
      "id": "ab4f4003",
      "metadata": {
        "id": "ab4f4003"
      },
      "source": [
        "convert float to string"
      ]
    },
    {
      "cell_type": "code",
      "execution_count": null,
      "id": "378868eb",
      "metadata": {
        "id": "378868eb",
        "outputId": "5fdb5f3b-29f4-4569-8003-f1d0db5dc9c3"
      },
      "outputs": [
        {
          "name": "stdout",
          "output_type": "stream",
          "text": [
            "45.5\n",
            "<class 'float'>\n",
            "45.5\n",
            "<class 'str'>\n"
          ]
        }
      ],
      "source": [
        "a=45.5\n",
        "print(a)\n",
        "print(type(a))\n",
        "b=str(a)\n",
        "print(b)\n",
        "print(type(b))"
      ]
    },
    {
      "cell_type": "markdown",
      "id": "d2242d44",
      "metadata": {
        "id": "d2242d44"
      },
      "source": [
        "convert int to boolean"
      ]
    },
    {
      "cell_type": "code",
      "execution_count": null,
      "id": "0e2c9414",
      "metadata": {
        "id": "0e2c9414",
        "outputId": "b53fbaed-5016-4b28-c2a4-73dcbec349cb"
      },
      "outputs": [
        {
          "name": "stdout",
          "output_type": "stream",
          "text": [
            "10\n",
            "<class 'int'>\n",
            "True\n",
            "<class 'bool'>\n"
          ]
        }
      ],
      "source": [
        "a=10\n",
        "print(a)\n",
        "print(type(a))\n",
        "b=bool(a)\n",
        "print(b)\n",
        "print(type(b))"
      ]
    },
    {
      "cell_type": "markdown",
      "id": "1cda7853",
      "metadata": {
        "id": "1cda7853"
      },
      "source": [
        "Convert String to int"
      ]
    },
    {
      "cell_type": "code",
      "execution_count": null,
      "id": "0cc6e694",
      "metadata": {
        "id": "0cc6e694",
        "outputId": "6fd476ef-5c4a-4c80-8dc5-a0853d5d1e7e"
      },
      "outputs": [
        {
          "name": "stdout",
          "output_type": "stream",
          "text": [
            "45\n",
            "<class 'str'>\n",
            "45\n",
            "<class 'int'>\n"
          ]
        }
      ],
      "source": [
        "a=\"45\"\n",
        "print(a)\n",
        "print(type(a))\n",
        "b=int(a)\n",
        "print(b)\n",
        "print(type(b))"
      ]
    },
    {
      "cell_type": "markdown",
      "id": "fd7c27fb",
      "metadata": {
        "id": "fd7c27fb"
      },
      "source": [
        "Convert String to boolean"
      ]
    },
    {
      "cell_type": "code",
      "execution_count": null,
      "id": "b566f0bd",
      "metadata": {
        "id": "b566f0bd",
        "outputId": "a68d4b3d-f584-41e8-c4a8-8b3eed719672"
      },
      "outputs": [
        {
          "name": "stdout",
          "output_type": "stream",
          "text": [
            "45\n",
            "<class 'str'>\n",
            "True\n",
            "<class 'bool'>\n"
          ]
        }
      ],
      "source": [
        "a=\"45\"\n",
        "print(a)\n",
        "print(type(a))\n",
        "b=bool(a)\n",
        "print(b)\n",
        "print(type(b))"
      ]
    },
    {
      "cell_type": "markdown",
      "id": "2f819baa",
      "metadata": {
        "id": "2f819baa"
      },
      "source": [
        "Convert String to float"
      ]
    },
    {
      "cell_type": "code",
      "execution_count": null,
      "id": "7e8068ae",
      "metadata": {
        "id": "7e8068ae",
        "outputId": "b58dc308-b435-42ad-a180-ed1e5948f972"
      },
      "outputs": [
        {
          "name": "stdout",
          "output_type": "stream",
          "text": [
            "45\n",
            "<class 'str'>\n",
            "45.0\n",
            "<class 'float'>\n"
          ]
        }
      ],
      "source": [
        "a=\"45\"\n",
        "print(a)\n",
        "print(type(a))\n",
        "b=float(a)\n",
        "print(b)\n",
        "print(type(b))"
      ]
    },
    {
      "cell_type": "markdown",
      "id": "bdbdbd09",
      "metadata": {
        "id": "bdbdbd09"
      },
      "source": [
        " Boolean Example"
      ]
    },
    {
      "cell_type": "code",
      "execution_count": null,
      "id": "842a90b2",
      "metadata": {
        "id": "842a90b2",
        "outputId": "b9a468fd-0822-4ac6-f3c7-55330b6962b5"
      },
      "outputs": [
        {
          "name": "stdout",
          "output_type": "stream",
          "text": [
            "False\n"
          ]
        }
      ],
      "source": [
        "a=2\n",
        "b=10\n",
        "c=a>b\n",
        "b=float(c)\n",
        "print(c)\n",
        "\n",
        "\n",
        "\n"
      ]
    },
    {
      "cell_type": "markdown",
      "id": "164fa578",
      "metadata": {
        "id": "164fa578"
      },
      "source": [
        "Convert boolean to int\n"
      ]
    },
    {
      "cell_type": "code",
      "execution_count": null,
      "id": "7a93f219",
      "metadata": {
        "id": "7a93f219",
        "outputId": "7bfa017d-2ce4-443b-d4ca-4889645286f7"
      },
      "outputs": [
        {
          "name": "stdout",
          "output_type": "stream",
          "text": [
            "False\n",
            "<class 'bool'>\n",
            "0\n",
            "<class 'int'>\n"
          ]
        }
      ],
      "source": [
        "a=45\n",
        "b=50\n",
        "c=a>b\n",
        "print(c)\n",
        "print(type(c))\n",
        "d=int(bool(c))\n",
        "print(d)\n",
        "print(type(d))"
      ]
    },
    {
      "cell_type": "markdown",
      "id": "08f7cf9e",
      "metadata": {
        "id": "08f7cf9e"
      },
      "source": [
        "Convert boolean to float"
      ]
    },
    {
      "cell_type": "code",
      "execution_count": null,
      "id": "11b5837b",
      "metadata": {
        "id": "11b5837b",
        "outputId": "a184876e-d380-4b3a-ffdc-56a944c191bb"
      },
      "outputs": [
        {
          "name": "stdout",
          "output_type": "stream",
          "text": [
            "True\n",
            "<class 'bool'>\n",
            "1.0\n",
            "<class 'float'>\n"
          ]
        }
      ],
      "source": [
        "a=10\n",
        "b=5\n",
        "c=a>b\n",
        "print(c)\n",
        "print(type(c))\n",
        "d=float(bool(c))\n",
        "print(d)\n",
        "print(type(d))"
      ]
    },
    {
      "cell_type": "markdown",
      "id": "bbae60db",
      "metadata": {
        "id": "bbae60db"
      },
      "source": [
        "Convert boolean to string"
      ]
    },
    {
      "cell_type": "code",
      "execution_count": null,
      "id": "3bc71923",
      "metadata": {
        "id": "3bc71923",
        "outputId": "b4542c26-a1e4-465c-8bda-1ec2432b93be"
      },
      "outputs": [
        {
          "name": "stdout",
          "output_type": "stream",
          "text": [
            "True\n",
            "<class 'bool'>\n",
            "True\n",
            "<class 'str'>\n"
          ]
        }
      ],
      "source": [
        "a=10\n",
        "b=5\n",
        "c=a>b\n",
        "print(c)\n",
        "print(type(c))\n",
        "d=str(bool(c))\n",
        "print(d)\n",
        "print(type(d))"
      ]
    },
    {
      "cell_type": "code",
      "execution_count": null,
      "id": "99c2ab80",
      "metadata": {
        "id": "99c2ab80"
      },
      "outputs": [],
      "source": [
        ""
      ]
    }
  ],
  "metadata": {
    "kernelspec": {
      "display_name": "Python 3 (ipykernel)",
      "language": "python",
      "name": "python3"
    },
    "language_info": {
      "codemirror_mode": {
        "name": "ipython",
        "version": 3
      },
      "file_extension": ".py",
      "mimetype": "text/x-python",
      "name": "python",
      "nbconvert_exporter": "python",
      "pygments_lexer": "ipython3",
      "version": "3.9.7"
    },
    "colab": {
      "name": "PYTHON PROGRAMS.ipynb",
      "provenance": [],
      "include_colab_link": true
    }
  },
  "nbformat": 4,
  "nbformat_minor": 5
}