{
  "nbformat": 4,
  "nbformat_minor": 0,
  "metadata": {
    "colab": {
      "name": "SETS .ipynb",
      "provenance": [],
      "collapsed_sections": [],
      "authorship_tag": "ABX9TyPgI0dF6n9/nRnWNdrDyZ3L",
      "include_colab_link": true
    },
    "kernelspec": {
      "name": "python3",
      "display_name": "Python 3"
    },
    "language_info": {
      "name": "python"
    }
  },
  "cells": [
    {
      "cell_type": "markdown",
      "metadata": {
        "id": "view-in-github",
        "colab_type": "text"
      },
      "source": [
        "<a href=\"https://colab.research.google.com/github/Yaminicetty/PYTHON-PROGRAMS/blob/main/SETS_.ipynb\" target=\"_parent\"><img src=\"https://colab.research.google.com/assets/colab-badge.svg\" alt=\"Open In Colab\"/></a>"
      ]
    },
    {
      "cell_type": "code",
      "execution_count": null,
      "metadata": {
        "id": "4muLam4HJ9MD",
        "colab": {
          "base_uri": "https://localhost:8080/"
        },
        "outputId": "079b156d-0b02-4198-c6d1-2aac4f1b300f"
      },
      "outputs": [
        {
          "output_type": "stream",
          "name": "stdout",
          "text": [
            "{'pulp', 'sugar', 'cherry'}\n"
          ]
        }
      ],
      "source": [
        "set = {\"sugar\", \"cherry\", \"pulp\"}\n",
        "print(set)"
      ]
    },
    {
      "cell_type": "code",
      "source": [
        "set1 =  {1, 2, 3} \n",
        "set2 =  {\"a\", \"b\" , \"c\"} # the union method returns to a new set with all items from both the sets\n",
        "set3 = set1.union(set2)\n",
        "print(set3)\n"
      ],
      "metadata": {
        "colab": {
          "base_uri": "https://localhost:8080/"
        },
        "id": "wxSPVroqLdRn",
        "outputId": "0572861c-af7e-4271-d2ec-282d8849ae30"
      },
      "execution_count": null,
      "outputs": [
        {
          "output_type": "stream",
          "name": "stdout",
          "text": [
            "{1, 2, 3, 'a', 'b', 'c'}\n"
          ]
        }
      ]
    },
    {
      "cell_type": "code",
      "source": [
        "set1 = {\"a\", \"b\" , \"c\"}#the update method inserts items from set1 to set2\n",
        "set2 = {1, 2, 3}\n",
        "\n",
        "set1.update(set2)\n",
        "print(set1)"
      ],
      "metadata": {
        "colab": {
          "base_uri": "https://localhost:8080/"
        },
        "id": "0V42rOVMMlk9",
        "outputId": "7c81f9cf-d83a-49df-dc85-a24a1b2df8ac"
      },
      "execution_count": null,
      "outputs": [
        {
          "output_type": "stream",
          "name": "stdout",
          "text": [
            "{1, 2, 3, 'a', 'b', 'c'}\n"
          ]
        }
      ]
    },
    {
      "cell_type": "code",
      "source": [
        "x = {\"peacock\", \"world\", \"pear\"} # intersection to identify the items in both the sets\n",
        "y = {\"pear\", \"penguin\", \"mango\"}\n",
        "\n",
        "x.intersection_update(y)\n",
        "\n",
        "print(x)"
      ],
      "metadata": {
        "colab": {
          "base_uri": "https://localhost:8080/"
        },
        "id": "uud95eWZNAP9",
        "outputId": "32a0b673-b5b2-4b94-b07c-9dfc825d18e0"
      },
      "execution_count": null,
      "outputs": [
        {
          "output_type": "stream",
          "name": "stdout",
          "text": [
            "{'pear'}\n"
          ]
        }
      ]
    },
    {
      "cell_type": "code",
      "source": [
        "x = {\"peacock\", \"world\", \"pear\"} # to identify the items which are not in both the sets\n",
        "y ={\"pear\", \"penguin\", \"mango\"}\n",
        "x.symmetric_difference_update(y)\n",
        "\n",
        "print(x)"
      ],
      "metadata": {
        "colab": {
          "base_uri": "https://localhost:8080/"
        },
        "id": "FRj7upXTO2b-",
        "outputId": "6e1e26eb-64d3-4d7b-f82a-4ee18873fe5f"
      },
      "execution_count": null,
      "outputs": [
        {
          "output_type": "stream",
          "name": "stdout",
          "text": [
            "{'penguin', 'peacock', 'world', 'mango'}\n"
          ]
        }
      ]
    },
    {
      "cell_type": "code",
      "source": [
        "set5 = {\"peacock\", \"world\", \"pear\"} #Through loops\n",
        "\n",
        "for x in set5:\n",
        "  print(x)"
      ],
      "metadata": {
        "colab": {
          "base_uri": "https://localhost:8080/"
        },
        "id": "-x2cc6GFPaL-",
        "outputId": "2ddca9c1-a4c9-4ad9-cda7-ea60403ee8ef"
      },
      "execution_count": null,
      "outputs": [
        {
          "output_type": "stream",
          "name": "stdout",
          "text": [
            "world\n",
            "peacock\n",
            "pear\n"
          ]
        }
      ]
    },
    {
      "cell_type": "code",
      "source": [
        "set0 = {\"peacock\", \"world\", \"pear\"}#to check whether the item is present or not\n",
        "print(\"world\" in set0)"
      ],
      "metadata": {
        "colab": {
          "base_uri": "https://localhost:8080/"
        },
        "id": "HV0TDwsTPold",
        "outputId": "c68568b2-bf23-4fb2-e20d-f3e01a04fa4b"
      },
      "execution_count": null,
      "outputs": [
        {
          "output_type": "stream",
          "name": "stdout",
          "text": [
            "True\n"
          ]
        }
      ]
    },
    {
      "cell_type": "code",
      "source": [
        "set10 = {\"pear\", \"penguin\", \"mango\"} #add in the set\n",
        "set10.add(\"orange\")\n",
        "print(set10)\n"
      ],
      "metadata": {
        "colab": {
          "base_uri": "https://localhost:8080/"
        },
        "id": "8iqw4uMCQRhN",
        "outputId": "8978b757-1cf1-45dd-add7-db51b5079061"
      },
      "execution_count": null,
      "outputs": [
        {
          "output_type": "stream",
          "name": "stdout",
          "text": [
            "{'orange', 'pear', 'mango', 'penguin'}\n"
          ]
        }
      ]
    },
    {
      "cell_type": "code",
      "source": [
        "set8 = {\"potato\", \"mat\", \"cello\"} # add items from rainy to set8\n",
        "rainy = {\"summer\",\"winter\",\"monsoon\"}\n",
        "set8.update(rainy)\n",
        "print(set8)"
      ],
      "metadata": {
        "colab": {
          "base_uri": "https://localhost:8080/"
        },
        "id": "CW4I8TxCQ_y7",
        "outputId": "0242f7de-65b4-4654-a201-d1d749bb4f28"
      },
      "execution_count": null,
      "outputs": [
        {
          "output_type": "stream",
          "name": "stdout",
          "text": [
            "{'potato', 'monsoon', 'winter', 'summer', 'cello', 'mat'}\n"
          ]
        }
      ]
    },
    {
      "cell_type": "code",
      "source": [
        "set11 = {\"summer\",\"winter\",\"monsoon\"} #remove from the set\n",
        "set11.remove(\"winter\")\n",
        "print(set11)\n"
      ],
      "metadata": {
        "colab": {
          "base_uri": "https://localhost:8080/"
        },
        "id": "5IWkUMQPRU-d",
        "outputId": "7f94f1eb-891a-4d61-8f17-da1d751f4319"
      },
      "execution_count": null,
      "outputs": [
        {
          "output_type": "stream",
          "name": "stdout",
          "text": [
            "{'monsoon', 'summer'}\n"
          ]
        }
      ]
    },
    {
      "cell_type": "code",
      "source": [
        "set20= {\"summer\",\"winter\",\"monsoon\"}# discard item from the cell\n",
        "set20.discard(\"monsoon\")\n",
        "print(set20)"
      ],
      "metadata": {
        "colab": {
          "base_uri": "https://localhost:8080/"
        },
        "id": "xsTmVOLyTPvN",
        "outputId": "9c5a7f7a-6efc-4d44-b819-2c8195fde324"
      },
      "execution_count": null,
      "outputs": [
        {
          "output_type": "stream",
          "name": "stdout",
          "text": [
            "{'summer', 'winter'}\n"
          ]
        }
      ]
    },
    {
      "cell_type": "code",
      "source": [
        "set50 = {\"summer\",\"winter\",\"monsoon\"}# remove the last item using pop\n",
        "x =set50.pop()\n",
        "print(set50)"
      ],
      "metadata": {
        "colab": {
          "base_uri": "https://localhost:8080/"
        },
        "id": "Sq764qLxTnUc",
        "outputId": "5f8cfcc6-b3a7-443c-e51f-ef8e23795df8"
      },
      "execution_count": null,
      "outputs": [
        {
          "output_type": "stream",
          "name": "stdout",
          "text": [
            "{'summer', 'winter'}\n"
          ]
        }
      ]
    },
    {
      "cell_type": "code",
      "source": [
        "set10 = {\"summer\",\"winter\",\"monsoon\"} #Loop through the set, and print the values:\n",
        "\n",
        "for x in set10:\n",
        "  print(x)\n"
      ],
      "metadata": {
        "id": "rHbLfwoyUnnU",
        "colab": {
          "base_uri": "https://localhost:8080/"
        },
        "outputId": "de710311-2870-412b-c103-d65cf33e02de"
      },
      "execution_count": 1,
      "outputs": [
        {
          "output_type": "stream",
          "name": "stdout",
          "text": [
            "apple\n",
            "banana\n",
            "cherry\n"
          ]
        }
      ]
    },
    {
      "cell_type": "code",
      "source": [
        "set1 = {\"a\", \"b\" , \"c\"}          #The union() method returns a new set with all items from both sets:\n",
        "set2 = {1, 2, 3}\n",
        "set3 = set1.union(set2)\n",
        "print(set3)"
      ],
      "metadata": {
        "id": "1ZYRG5aSWFbe",
        "colab": {
          "base_uri": "https://localhost:8080/"
        },
        "outputId": "d80659ce-3c83-4fe1-b5e0-201cd170908a"
      },
      "execution_count": 2,
      "outputs": [
        {
          "output_type": "stream",
          "name": "stdout",
          "text": [
            "{1, 2, 3, 'c', 'b', 'a'}\n"
          ]
        }
      ]
    },
    {
      "cell_type": "code",
      "source": [
        "set1 = {\"a\", \"b\" , \"c\"} #The update() method inserts the items in set2 into set1:\n",
        "set2 = {1, 2, 3}\n",
        "\n",
        "set1.update(set2)\n",
        "print(set1)"
      ],
      "metadata": {
        "colab": {
          "base_uri": "https://localhost:8080/"
        },
        "id": "SjEksswyJCPc",
        "outputId": "1747a6ad-616a-438b-cb40-903e9629c552"
      },
      "execution_count": 5,
      "outputs": [
        {
          "output_type": "stream",
          "name": "stdout",
          "text": [
            "{1, 2, 3, 'c', 'b', 'a'}\n"
          ]
        }
      ]
    },
    {
      "cell_type": "code",
      "source": [
        "x = {\"summer\",\"winter\",\"monsoon\"}        #Keep the items that exist in both set x, and set y:\n",
        "y = {\"dog\", \"cat\", \"winter\"}\n",
        "\n",
        "x.intersection_update(y)\n",
        "\n",
        "print(x)"
      ],
      "metadata": {
        "colab": {
          "base_uri": "https://localhost:8080/"
        },
        "id": "z7wnLIynJKLz",
        "outputId": "33511ca4-f666-4ade-fc35-77ed9591a8ef"
      },
      "execution_count": 9,
      "outputs": [
        {
          "output_type": "stream",
          "name": "stdout",
          "text": [
            "{'winter'}\n"
          ]
        }
      ]
    },
    {
      "cell_type": "code",
      "source": [
        "x = {\"summer\",\"winter\",\"monsoon\"}\n",
        "y = {\"dog\", \"cat\", \"winter\"}\n",
        "z = x.intersection(y)\n",
        "print(z)"
      ],
      "metadata": {
        "colab": {
          "base_uri": "https://localhost:8080/"
        },
        "id": "SbEM5_WuJP1r",
        "outputId": "a99cc052-5d47-4f95-c27b-b9b3e6c364c7"
      },
      "execution_count": 11,
      "outputs": [
        {
          "output_type": "stream",
          "name": "stdout",
          "text": [
            "{'winter'}\n"
          ]
        }
      ]
    },
    {
      "cell_type": "code",
      "source": [
        "x = {\"summer\",\"winter\",\"monsoon\"}\n",
        "y = {\"dog\", \"cat\", \"winter\"}\n",
        "\n",
        "x.symmetric_difference_update(y)                    #Keep the items that are not present in both sets\n",
        "\n",
        "print(x)"
      ],
      "metadata": {
        "colab": {
          "base_uri": "https://localhost:8080/"
        },
        "id": "C--kGv-MJWGk",
        "outputId": "1b513a3c-f628-4113-b98b-fab2f00e620a"
      },
      "execution_count": 12,
      "outputs": [
        {
          "output_type": "stream",
          "name": "stdout",
          "text": [
            "{'monsoon', 'dog', 'cat', 'summer'}\n"
          ]
        }
      ]
    },
    {
      "cell_type": "code",
      "source": [
        ""
      ],
      "metadata": {
        "id": "0GMbkxsrKIJ8"
      },
      "execution_count": null,
      "outputs": []
    }
  ]
}